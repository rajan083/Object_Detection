{
 "cells": [
  {
   "cell_type": "code",
   "execution_count": 1,
   "metadata": {},
   "outputs": [
    {
     "name": "stdout",
     "output_type": "stream",
     "text": [
      "Creating new Ultralytics Settings v0.0.6 file  \n",
      "View Ultralytics Settings with 'yolo settings' or at 'C:\\Users\\ACER\\AppData\\Roaming\\Ultralytics\\settings.json'\n",
      "Update Settings with 'yolo settings key=value', i.e. 'yolo settings runs_dir=path/to/dir'. For help see https://docs.ultralytics.com/quickstart/#ultralytics-settings.\n"
     ]
    }
   ],
   "source": [
    "import cv2\n",
    "import numpy as np\n",
    "from ultralytics import YOLO"
   ]
  },
  {
   "cell_type": "code",
   "execution_count": 2,
   "metadata": {},
   "outputs": [
    {
     "name": "stdout",
     "output_type": "stream",
     "text": [
      "Downloading https://github.com/ultralytics/assets/releases/download/v8.3.0/yolov8n.pt to 'yolov8n.pt'...\n"
     ]
    },
    {
     "name": "stderr",
     "output_type": "stream",
     "text": [
      "100%|██████████| 6.25M/6.25M [00:06<00:00, 952kB/s] \n"
     ]
    }
   ],
   "source": [
    "model = YOLO('yolov8n.pt')"
   ]
  },
  {
   "cell_type": "code",
   "execution_count": 8,
   "metadata": {},
   "outputs": [
    {
     "name": "stdout",
     "output_type": "stream",
     "text": [
      "\n",
      "0: 480x640 1 bottle, 578.2ms\n",
      "Speed: 56.2ms preprocess, 578.2ms inference, 4.3ms postprocess per image at shape (1, 3, 480, 640)\n"
     ]
    }
   ],
   "source": [
    "image_path = r'C:\\Users\\ACER\\Dropbox\\PC\\Desktop\\Jupyter-VS\\Object Detection model\\th.jpg'\n",
    "image = cv2.imread(image_path)\n",
    "\n",
    "results = model(image)"
   ]
  },
  {
   "cell_type": "code",
   "execution_count": 13,
   "metadata": {},
   "outputs": [],
   "source": [
    "detections = results[0].boxes.xyxy\n",
    "classes = results[0].boxes.cls\n",
    "confidence = results[0].boxes.conf"
   ]
  },
  {
   "cell_type": "code",
   "execution_count": 14,
   "metadata": {},
   "outputs": [],
   "source": [
    "reference_box = None\n",
    "target_box = None\n",
    "for box, cls in zip(detections, classes):\n",
    "    if cls == 0:\n",
    "        reference_box= box\n",
    "    elif cls == 0:\n",
    "        target_box = box"
   ]
  },
  {
   "cell_type": "code",
   "execution_count": 16,
   "metadata": {},
   "outputs": [
    {
     "name": "stdout",
     "output_type": "stream",
     "text": [
      "Could not detect both reference and target objects.\n"
     ]
    }
   ],
   "source": [
    "if reference_box is not None and target_box is not None:\n",
    "    ref_height_pixels = reference_box[3] - reference_box[1]\n",
    "    target_height_pixels = target_box[3] - target_box[1]\n",
    "    ref_height_real = 0.3\n",
    "\n",
    "    scale = ref_height_real / ref_height_pixels\n",
    "    target_height_real = target_height_pixels * scale\n",
    "\n",
    "    print(f\"Estimated height of target object: {target_height_real:.2f} meters\")\n",
    "else:\n",
    "    print(\"Could not detect both reference and target objects.\")"
   ]
  }
 ],
 "metadata": {
  "kernelspec": {
   "display_name": "Python 3",
   "language": "python",
   "name": "python3"
  },
  "language_info": {
   "codemirror_mode": {
    "name": "ipython",
    "version": 3
   },
   "file_extension": ".py",
   "mimetype": "text/x-python",
   "name": "python",
   "nbconvert_exporter": "python",
   "pygments_lexer": "ipython3",
   "version": "3.12.5"
  }
 },
 "nbformat": 4,
 "nbformat_minor": 2
}
